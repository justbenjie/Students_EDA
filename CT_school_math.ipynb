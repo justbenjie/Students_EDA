{
  "cells": [
    {
      "cell_type": "markdown",
      "metadata": {
        "id": "view-in-github",
        "colab_type": "text"
      },
      "source": [
        "<a href=\"https://colab.research.google.com/github/justbenjie/Students_EDA/blob/main/CT_school_math.ipynb\" target=\"_parent\"><img src=\"https://colab.research.google.com/assets/colab-badge.svg\" alt=\"Open In Colab\"/></a>"
      ]
    },
    {
      "cell_type": "code",
      "execution_count": null,
      "metadata": {
        "colab": {
          "base_uri": "https://localhost:8080/"
        },
        "id": "0l7vRqd02HWx",
        "outputId": "bae74a8a-c5c1-4a77-c804-95d9e797276c"
      },
      "outputs": [
        {
          "output_type": "stream",
          "name": "stdout",
          "text": [
            "Mounted at /content/drive\n"
          ]
        }
      ],
      "source": [
        "from google.colab import drive\n",
        "drive.mount('/content/drive')"
      ]
    },
    {
      "cell_type": "code",
      "execution_count": null,
      "metadata": {
        "id": "gkYAJtlf20iK"
      },
      "outputs": [],
      "source": [
        "%matplotlib inline\n",
        "import pandas as pd\n",
        "import numpy as np\n",
        "import seaborn as sns\n",
        "import matplotlib\n",
        "import matplotlib.pyplot as plt\n",
        "import re\n",
        "import pylab\n",
        "from scipy import stats\n",
        "import math\n",
        "import random"
      ]
    },
    {
      "cell_type": "markdown",
      "metadata": {
        "id": "aiDkWIlfAlUC"
      },
      "source": [
        "# Загрузка данных"
      ]
    },
    {
      "cell_type": "code",
      "execution_count": null,
      "metadata": {
        "id": "Otbj1mwT3MZd"
      },
      "outputs": [],
      "source": [
        "\n",
        "df = pd.read_excel('/content/drive/MyDrive/Students_EDA/data/Готовые данные.xlsx', )"
      ]
    },
    {
      "cell_type": "code",
      "execution_count": null,
      "metadata": {
        "colab": {
          "base_uri": "https://localhost:8080/",
          "height": 418
        },
        "id": "LyaTnKhX3ihM",
        "outputId": "e0b2e43c-489c-4d20-b79c-c99e73537f3f"
      },
      "outputs": [
        {
          "output_type": "execute_result",
          "data": {
            "text/plain": [
              "  university            stream  year  CT_total  CT_math  CT_native_language  \\\n",
              "0       бнту  поит исит 2 курс   2.0     256.0     90.0                83.0   \n",
              "1      бгуир               NaN   2.0     236.0     73.0                81.0   \n",
              "2       бнту  поит исит 2 курс   2.0     265.0     88.0                89.0   \n",
              "3     другие               NaN   1.0     216.0     65.0                79.0   \n",
              "4       бнту  поит исит 2 курс   2.0     201.0     65.0                69.0   \n",
              "\n",
              "   CT_physics  CT_foreign_language  school_total  school_math  ...  \\\n",
              "0        83.0                  NaN          28.0          9.0  ...   \n",
              "1        82.0                  NaN          26.0         10.0  ...   \n",
              "2        88.0                  NaN          30.0         10.0  ...   \n",
              "3         NaN                 72.0          27.0          9.0  ...   \n",
              "4        67.0                  NaN          27.0          9.0  ...   \n",
              "\n",
              "                 films_genre    musician       sport  sleep   bad_habit  \\\n",
              "0                 фантастика   скорее да   скорее да      8  скорее нет   \n",
              "1                 фантастика   скорее да   скорее да      7  скорее нет   \n",
              "2  биография, драма, комедия  скорее нет   скорее да      7  скорее нет   \n",
              "3     ужасы, психологические   скорее да  скорее нет      5   скорее да   \n",
              "4                 фантастика  скорее нет   скорее да      6   скорее да   \n",
              "\n",
              "  vision_problem        temperament   career_family   politic_view    belief  \n",
              "0      скорее да   скорее интроверт  скорее карьера  скорее правый  верующий  \n",
              "1     скорее нет  скорее экстраверт  скорее карьера        что это  верующий  \n",
              "2      скорее да  скорее экстраверт    скорее семья        что это  агностик  \n",
              "3     скорее нет  скорее экстраверт  скорее карьера        что это  агностик  \n",
              "4     скорее нет   скорее интроверт    скорее семья  скорее правый  агностик  \n",
              "\n",
              "[5 rows x 29 columns]"
            ],
            "text/html": [
              "\n",
              "  <div id=\"df-25502591-e2bb-49c6-81f8-6f599bc45b30\">\n",
              "    <div class=\"colab-df-container\">\n",
              "      <div>\n",
              "<style scoped>\n",
              "    .dataframe tbody tr th:only-of-type {\n",
              "        vertical-align: middle;\n",
              "    }\n",
              "\n",
              "    .dataframe tbody tr th {\n",
              "        vertical-align: top;\n",
              "    }\n",
              "\n",
              "    .dataframe thead th {\n",
              "        text-align: right;\n",
              "    }\n",
              "</style>\n",
              "<table border=\"1\" class=\"dataframe\">\n",
              "  <thead>\n",
              "    <tr style=\"text-align: right;\">\n",
              "      <th></th>\n",
              "      <th>university</th>\n",
              "      <th>stream</th>\n",
              "      <th>year</th>\n",
              "      <th>CT_total</th>\n",
              "      <th>CT_math</th>\n",
              "      <th>CT_native_language</th>\n",
              "      <th>CT_physics</th>\n",
              "      <th>CT_foreign_language</th>\n",
              "      <th>school_total</th>\n",
              "      <th>school_math</th>\n",
              "      <th>...</th>\n",
              "      <th>films_genre</th>\n",
              "      <th>musician</th>\n",
              "      <th>sport</th>\n",
              "      <th>sleep</th>\n",
              "      <th>bad_habit</th>\n",
              "      <th>vision_problem</th>\n",
              "      <th>temperament</th>\n",
              "      <th>career_family</th>\n",
              "      <th>politic_view</th>\n",
              "      <th>belief</th>\n",
              "    </tr>\n",
              "  </thead>\n",
              "  <tbody>\n",
              "    <tr>\n",
              "      <th>0</th>\n",
              "      <td>бнту</td>\n",
              "      <td>поит исит 2 курс</td>\n",
              "      <td>2.0</td>\n",
              "      <td>256.0</td>\n",
              "      <td>90.0</td>\n",
              "      <td>83.0</td>\n",
              "      <td>83.0</td>\n",
              "      <td>NaN</td>\n",
              "      <td>28.0</td>\n",
              "      <td>9.0</td>\n",
              "      <td>...</td>\n",
              "      <td>фантастика</td>\n",
              "      <td>скорее да</td>\n",
              "      <td>скорее да</td>\n",
              "      <td>8</td>\n",
              "      <td>скорее нет</td>\n",
              "      <td>скорее да</td>\n",
              "      <td>скорее интроверт</td>\n",
              "      <td>скорее карьера</td>\n",
              "      <td>скорее правый</td>\n",
              "      <td>верующий</td>\n",
              "    </tr>\n",
              "    <tr>\n",
              "      <th>1</th>\n",
              "      <td>бгуир</td>\n",
              "      <td>NaN</td>\n",
              "      <td>2.0</td>\n",
              "      <td>236.0</td>\n",
              "      <td>73.0</td>\n",
              "      <td>81.0</td>\n",
              "      <td>82.0</td>\n",
              "      <td>NaN</td>\n",
              "      <td>26.0</td>\n",
              "      <td>10.0</td>\n",
              "      <td>...</td>\n",
              "      <td>фантастика</td>\n",
              "      <td>скорее да</td>\n",
              "      <td>скорее да</td>\n",
              "      <td>7</td>\n",
              "      <td>скорее нет</td>\n",
              "      <td>скорее нет</td>\n",
              "      <td>скорее экстраверт</td>\n",
              "      <td>скорее карьера</td>\n",
              "      <td>что это</td>\n",
              "      <td>верующий</td>\n",
              "    </tr>\n",
              "    <tr>\n",
              "      <th>2</th>\n",
              "      <td>бнту</td>\n",
              "      <td>поит исит 2 курс</td>\n",
              "      <td>2.0</td>\n",
              "      <td>265.0</td>\n",
              "      <td>88.0</td>\n",
              "      <td>89.0</td>\n",
              "      <td>88.0</td>\n",
              "      <td>NaN</td>\n",
              "      <td>30.0</td>\n",
              "      <td>10.0</td>\n",
              "      <td>...</td>\n",
              "      <td>биография, драма, комедия</td>\n",
              "      <td>скорее нет</td>\n",
              "      <td>скорее да</td>\n",
              "      <td>7</td>\n",
              "      <td>скорее нет</td>\n",
              "      <td>скорее да</td>\n",
              "      <td>скорее экстраверт</td>\n",
              "      <td>скорее семья</td>\n",
              "      <td>что это</td>\n",
              "      <td>агностик</td>\n",
              "    </tr>\n",
              "    <tr>\n",
              "      <th>3</th>\n",
              "      <td>другие</td>\n",
              "      <td>NaN</td>\n",
              "      <td>1.0</td>\n",
              "      <td>216.0</td>\n",
              "      <td>65.0</td>\n",
              "      <td>79.0</td>\n",
              "      <td>NaN</td>\n",
              "      <td>72.0</td>\n",
              "      <td>27.0</td>\n",
              "      <td>9.0</td>\n",
              "      <td>...</td>\n",
              "      <td>ужасы, психологические</td>\n",
              "      <td>скорее да</td>\n",
              "      <td>скорее нет</td>\n",
              "      <td>5</td>\n",
              "      <td>скорее да</td>\n",
              "      <td>скорее нет</td>\n",
              "      <td>скорее экстраверт</td>\n",
              "      <td>скорее карьера</td>\n",
              "      <td>что это</td>\n",
              "      <td>агностик</td>\n",
              "    </tr>\n",
              "    <tr>\n",
              "      <th>4</th>\n",
              "      <td>бнту</td>\n",
              "      <td>поит исит 2 курс</td>\n",
              "      <td>2.0</td>\n",
              "      <td>201.0</td>\n",
              "      <td>65.0</td>\n",
              "      <td>69.0</td>\n",
              "      <td>67.0</td>\n",
              "      <td>NaN</td>\n",
              "      <td>27.0</td>\n",
              "      <td>9.0</td>\n",
              "      <td>...</td>\n",
              "      <td>фантастика</td>\n",
              "      <td>скорее нет</td>\n",
              "      <td>скорее да</td>\n",
              "      <td>6</td>\n",
              "      <td>скорее да</td>\n",
              "      <td>скорее нет</td>\n",
              "      <td>скорее интроверт</td>\n",
              "      <td>скорее семья</td>\n",
              "      <td>скорее правый</td>\n",
              "      <td>агностик</td>\n",
              "    </tr>\n",
              "  </tbody>\n",
              "</table>\n",
              "<p>5 rows × 29 columns</p>\n",
              "</div>\n",
              "      <button class=\"colab-df-convert\" onclick=\"convertToInteractive('df-25502591-e2bb-49c6-81f8-6f599bc45b30')\"\n",
              "              title=\"Convert this dataframe to an interactive table.\"\n",
              "              style=\"display:none;\">\n",
              "        \n",
              "  <svg xmlns=\"http://www.w3.org/2000/svg\" height=\"24px\"viewBox=\"0 0 24 24\"\n",
              "       width=\"24px\">\n",
              "    <path d=\"M0 0h24v24H0V0z\" fill=\"none\"/>\n",
              "    <path d=\"M18.56 5.44l.94 2.06.94-2.06 2.06-.94-2.06-.94-.94-2.06-.94 2.06-2.06.94zm-11 1L8.5 8.5l.94-2.06 2.06-.94-2.06-.94L8.5 2.5l-.94 2.06-2.06.94zm10 10l.94 2.06.94-2.06 2.06-.94-2.06-.94-.94-2.06-.94 2.06-2.06.94z\"/><path d=\"M17.41 7.96l-1.37-1.37c-.4-.4-.92-.59-1.43-.59-.52 0-1.04.2-1.43.59L10.3 9.45l-7.72 7.72c-.78.78-.78 2.05 0 2.83L4 21.41c.39.39.9.59 1.41.59.51 0 1.02-.2 1.41-.59l7.78-7.78 2.81-2.81c.8-.78.8-2.07 0-2.86zM5.41 20L4 18.59l7.72-7.72 1.47 1.35L5.41 20z\"/>\n",
              "  </svg>\n",
              "      </button>\n",
              "      \n",
              "  <style>\n",
              "    .colab-df-container {\n",
              "      display:flex;\n",
              "      flex-wrap:wrap;\n",
              "      gap: 12px;\n",
              "    }\n",
              "\n",
              "    .colab-df-convert {\n",
              "      background-color: #E8F0FE;\n",
              "      border: none;\n",
              "      border-radius: 50%;\n",
              "      cursor: pointer;\n",
              "      display: none;\n",
              "      fill: #1967D2;\n",
              "      height: 32px;\n",
              "      padding: 0 0 0 0;\n",
              "      width: 32px;\n",
              "    }\n",
              "\n",
              "    .colab-df-convert:hover {\n",
              "      background-color: #E2EBFA;\n",
              "      box-shadow: 0px 1px 2px rgba(60, 64, 67, 0.3), 0px 1px 3px 1px rgba(60, 64, 67, 0.15);\n",
              "      fill: #174EA6;\n",
              "    }\n",
              "\n",
              "    [theme=dark] .colab-df-convert {\n",
              "      background-color: #3B4455;\n",
              "      fill: #D2E3FC;\n",
              "    }\n",
              "\n",
              "    [theme=dark] .colab-df-convert:hover {\n",
              "      background-color: #434B5C;\n",
              "      box-shadow: 0px 1px 3px 1px rgba(0, 0, 0, 0.15);\n",
              "      filter: drop-shadow(0px 1px 2px rgba(0, 0, 0, 0.3));\n",
              "      fill: #FFFFFF;\n",
              "    }\n",
              "  </style>\n",
              "\n",
              "      <script>\n",
              "        const buttonEl =\n",
              "          document.querySelector('#df-25502591-e2bb-49c6-81f8-6f599bc45b30 button.colab-df-convert');\n",
              "        buttonEl.style.display =\n",
              "          google.colab.kernel.accessAllowed ? 'block' : 'none';\n",
              "\n",
              "        async function convertToInteractive(key) {\n",
              "          const element = document.querySelector('#df-25502591-e2bb-49c6-81f8-6f599bc45b30');\n",
              "          const dataTable =\n",
              "            await google.colab.kernel.invokeFunction('convertToInteractive',\n",
              "                                                     [key], {});\n",
              "          if (!dataTable) return;\n",
              "\n",
              "          const docLinkHtml = 'Like what you see? Visit the ' +\n",
              "            '<a target=\"_blank\" href=https://colab.research.google.com/notebooks/data_table.ipynb>data table notebook</a>'\n",
              "            + ' to learn more about interactive tables.';\n",
              "          element.innerHTML = '';\n",
              "          dataTable['output_type'] = 'display_data';\n",
              "          await google.colab.output.renderOutput(dataTable, element);\n",
              "          const docLink = document.createElement('div');\n",
              "          docLink.innerHTML = docLinkHtml;\n",
              "          element.appendChild(docLink);\n",
              "        }\n",
              "      </script>\n",
              "    </div>\n",
              "  </div>\n",
              "  "
            ]
          },
          "metadata": {},
          "execution_count": 4
        }
      ],
      "source": [
        "df.head()"
      ]
    },
    {
      "cell_type": "code",
      "execution_count": null,
      "metadata": {
        "colab": {
          "base_uri": "https://localhost:8080/"
        },
        "id": "cBr8-L0v3j6Q",
        "outputId": "cd19f774-8974-4ca5-c024-957e48c8dbc2"
      },
      "outputs": [
        {
          "output_type": "stream",
          "name": "stdout",
          "text": [
            "<class 'pandas.core.frame.DataFrame'>\n",
            "RangeIndex: 170 entries, 0 to 169\n",
            "Data columns (total 29 columns):\n",
            " #   Column                   Non-Null Count  Dtype  \n",
            "---  ------                   --------------  -----  \n",
            " 0   university               170 non-null    object \n",
            " 1   stream                   38 non-null     object \n",
            " 2   year                     167 non-null    float64\n",
            " 3   CT_total                 157 non-null    float64\n",
            " 4   CT_math                  154 non-null    float64\n",
            " 5   CT_native_language       160 non-null    float64\n",
            " 6   CT_physics               136 non-null    float64\n",
            " 7   CT_foreign_language      22 non-null     float64\n",
            " 8   school_total             166 non-null    float64\n",
            " 9   school_math              158 non-null    float64\n",
            " 10  school_native_language   164 non-null    float64\n",
            " 11  school_physics           142 non-null    float64\n",
            " 12  school_foreign_language  19 non-null     float64\n",
            " 13  university_math          157 non-null    float64\n",
            " 14  gender                   170 non-null    object \n",
            " 15  math_olympiad            170 non-null    object \n",
            " 16  chess                    170 non-null    object \n",
            " 17  rubiks_cube              170 non-null    object \n",
            " 18  books                    170 non-null    object \n",
            " 19  films_genre              155 non-null    object \n",
            " 20  musician                 170 non-null    object \n",
            " 21  sport                    170 non-null    object \n",
            " 22  sleep                    170 non-null    int64  \n",
            " 23  bad_habit                170 non-null    object \n",
            " 24  vision_problem           170 non-null    object \n",
            " 25  temperament              170 non-null    object \n",
            " 26  career_family            170 non-null    object \n",
            " 27  politic_view             170 non-null    object \n",
            " 28  belief                   170 non-null    object \n",
            "dtypes: float64(12), int64(1), object(16)\n",
            "memory usage: 38.6+ KB\n"
          ]
        }
      ],
      "source": [
        "df.info()"
      ]
    },
    {
      "cell_type": "code",
      "execution_count": null,
      "metadata": {
        "id": "O_RG1bSx4bKB"
      },
      "outputs": [],
      "source": [
        "features = ['CT_math', 'school_math']"
      ]
    },
    {
      "cell_type": "code",
      "execution_count": null,
      "metadata": {
        "id": "_6h7NEkH5Brq"
      },
      "outputs": [],
      "source": [
        "target_df = df[features]"
      ]
    },
    {
      "cell_type": "code",
      "execution_count": null,
      "metadata": {
        "colab": {
          "base_uri": "https://localhost:8080/",
          "height": 424
        },
        "id": "GITy4yD95Kjv",
        "outputId": "ddc41779-81a2-4aaa-e307-ed2bd55e3757"
      },
      "outputs": [
        {
          "output_type": "execute_result",
          "data": {
            "text/plain": [
              "     CT_math  school_math\n",
              "0       90.0          9.0\n",
              "1       73.0         10.0\n",
              "2       88.0         10.0\n",
              "3       65.0          9.0\n",
              "4       65.0          9.0\n",
              "..       ...          ...\n",
              "165     83.0          8.0\n",
              "166     80.0          8.0\n",
              "167     90.0          9.0\n",
              "168     88.0         10.0\n",
              "169     87.0         10.0\n",
              "\n",
              "[170 rows x 2 columns]"
            ],
            "text/html": [
              "\n",
              "  <div id=\"df-b72b5fdc-65ff-4ad4-be19-0a0e7eb07e7c\">\n",
              "    <div class=\"colab-df-container\">\n",
              "      <div>\n",
              "<style scoped>\n",
              "    .dataframe tbody tr th:only-of-type {\n",
              "        vertical-align: middle;\n",
              "    }\n",
              "\n",
              "    .dataframe tbody tr th {\n",
              "        vertical-align: top;\n",
              "    }\n",
              "\n",
              "    .dataframe thead th {\n",
              "        text-align: right;\n",
              "    }\n",
              "</style>\n",
              "<table border=\"1\" class=\"dataframe\">\n",
              "  <thead>\n",
              "    <tr style=\"text-align: right;\">\n",
              "      <th></th>\n",
              "      <th>CT_math</th>\n",
              "      <th>school_math</th>\n",
              "    </tr>\n",
              "  </thead>\n",
              "  <tbody>\n",
              "    <tr>\n",
              "      <th>0</th>\n",
              "      <td>90.0</td>\n",
              "      <td>9.0</td>\n",
              "    </tr>\n",
              "    <tr>\n",
              "      <th>1</th>\n",
              "      <td>73.0</td>\n",
              "      <td>10.0</td>\n",
              "    </tr>\n",
              "    <tr>\n",
              "      <th>2</th>\n",
              "      <td>88.0</td>\n",
              "      <td>10.0</td>\n",
              "    </tr>\n",
              "    <tr>\n",
              "      <th>3</th>\n",
              "      <td>65.0</td>\n",
              "      <td>9.0</td>\n",
              "    </tr>\n",
              "    <tr>\n",
              "      <th>4</th>\n",
              "      <td>65.0</td>\n",
              "      <td>9.0</td>\n",
              "    </tr>\n",
              "    <tr>\n",
              "      <th>...</th>\n",
              "      <td>...</td>\n",
              "      <td>...</td>\n",
              "    </tr>\n",
              "    <tr>\n",
              "      <th>165</th>\n",
              "      <td>83.0</td>\n",
              "      <td>8.0</td>\n",
              "    </tr>\n",
              "    <tr>\n",
              "      <th>166</th>\n",
              "      <td>80.0</td>\n",
              "      <td>8.0</td>\n",
              "    </tr>\n",
              "    <tr>\n",
              "      <th>167</th>\n",
              "      <td>90.0</td>\n",
              "      <td>9.0</td>\n",
              "    </tr>\n",
              "    <tr>\n",
              "      <th>168</th>\n",
              "      <td>88.0</td>\n",
              "      <td>10.0</td>\n",
              "    </tr>\n",
              "    <tr>\n",
              "      <th>169</th>\n",
              "      <td>87.0</td>\n",
              "      <td>10.0</td>\n",
              "    </tr>\n",
              "  </tbody>\n",
              "</table>\n",
              "<p>170 rows × 2 columns</p>\n",
              "</div>\n",
              "      <button class=\"colab-df-convert\" onclick=\"convertToInteractive('df-b72b5fdc-65ff-4ad4-be19-0a0e7eb07e7c')\"\n",
              "              title=\"Convert this dataframe to an interactive table.\"\n",
              "              style=\"display:none;\">\n",
              "        \n",
              "  <svg xmlns=\"http://www.w3.org/2000/svg\" height=\"24px\"viewBox=\"0 0 24 24\"\n",
              "       width=\"24px\">\n",
              "    <path d=\"M0 0h24v24H0V0z\" fill=\"none\"/>\n",
              "    <path d=\"M18.56 5.44l.94 2.06.94-2.06 2.06-.94-2.06-.94-.94-2.06-.94 2.06-2.06.94zm-11 1L8.5 8.5l.94-2.06 2.06-.94-2.06-.94L8.5 2.5l-.94 2.06-2.06.94zm10 10l.94 2.06.94-2.06 2.06-.94-2.06-.94-.94-2.06-.94 2.06-2.06.94z\"/><path d=\"M17.41 7.96l-1.37-1.37c-.4-.4-.92-.59-1.43-.59-.52 0-1.04.2-1.43.59L10.3 9.45l-7.72 7.72c-.78.78-.78 2.05 0 2.83L4 21.41c.39.39.9.59 1.41.59.51 0 1.02-.2 1.41-.59l7.78-7.78 2.81-2.81c.8-.78.8-2.07 0-2.86zM5.41 20L4 18.59l7.72-7.72 1.47 1.35L5.41 20z\"/>\n",
              "  </svg>\n",
              "      </button>\n",
              "      \n",
              "  <style>\n",
              "    .colab-df-container {\n",
              "      display:flex;\n",
              "      flex-wrap:wrap;\n",
              "      gap: 12px;\n",
              "    }\n",
              "\n",
              "    .colab-df-convert {\n",
              "      background-color: #E8F0FE;\n",
              "      border: none;\n",
              "      border-radius: 50%;\n",
              "      cursor: pointer;\n",
              "      display: none;\n",
              "      fill: #1967D2;\n",
              "      height: 32px;\n",
              "      padding: 0 0 0 0;\n",
              "      width: 32px;\n",
              "    }\n",
              "\n",
              "    .colab-df-convert:hover {\n",
              "      background-color: #E2EBFA;\n",
              "      box-shadow: 0px 1px 2px rgba(60, 64, 67, 0.3), 0px 1px 3px 1px rgba(60, 64, 67, 0.15);\n",
              "      fill: #174EA6;\n",
              "    }\n",
              "\n",
              "    [theme=dark] .colab-df-convert {\n",
              "      background-color: #3B4455;\n",
              "      fill: #D2E3FC;\n",
              "    }\n",
              "\n",
              "    [theme=dark] .colab-df-convert:hover {\n",
              "      background-color: #434B5C;\n",
              "      box-shadow: 0px 1px 3px 1px rgba(0, 0, 0, 0.15);\n",
              "      filter: drop-shadow(0px 1px 2px rgba(0, 0, 0, 0.3));\n",
              "      fill: #FFFFFF;\n",
              "    }\n",
              "  </style>\n",
              "\n",
              "      <script>\n",
              "        const buttonEl =\n",
              "          document.querySelector('#df-b72b5fdc-65ff-4ad4-be19-0a0e7eb07e7c button.colab-df-convert');\n",
              "        buttonEl.style.display =\n",
              "          google.colab.kernel.accessAllowed ? 'block' : 'none';\n",
              "\n",
              "        async function convertToInteractive(key) {\n",
              "          const element = document.querySelector('#df-b72b5fdc-65ff-4ad4-be19-0a0e7eb07e7c');\n",
              "          const dataTable =\n",
              "            await google.colab.kernel.invokeFunction('convertToInteractive',\n",
              "                                                     [key], {});\n",
              "          if (!dataTable) return;\n",
              "\n",
              "          const docLinkHtml = 'Like what you see? Visit the ' +\n",
              "            '<a target=\"_blank\" href=https://colab.research.google.com/notebooks/data_table.ipynb>data table notebook</a>'\n",
              "            + ' to learn more about interactive tables.';\n",
              "          element.innerHTML = '';\n",
              "          dataTable['output_type'] = 'display_data';\n",
              "          await google.colab.output.renderOutput(dataTable, element);\n",
              "          const docLink = document.createElement('div');\n",
              "          docLink.innerHTML = docLinkHtml;\n",
              "          element.appendChild(docLink);\n",
              "        }\n",
              "      </script>\n",
              "    </div>\n",
              "  </div>\n",
              "  "
            ]
          },
          "metadata": {},
          "execution_count": 8
        }
      ],
      "source": [
        "target_df"
      ]
    },
    {
      "cell_type": "markdown",
      "metadata": {
        "id": "qRywM9epArUs"
      },
      "source": [
        "# Визуализация данных, основные статистики\n",
        "\n",
        "\n",
        "\n",
        "\n",
        "\n"
      ]
    },
    {
      "cell_type": "code",
      "execution_count": null,
      "metadata": {
        "id": "NCVn54qT7Buu"
      },
      "outputs": [],
      "source": [
        "def calc_draw_stat(data, title, xlabel):\n",
        "  plt.figure(figsize=(10,3)).suptitle(title, size='x-large')\n",
        "  sns.boxplot(x = data)\n",
        "  plt.xlabel(xlabel)\n",
        "  plt.show()\n",
        "  \n",
        "  statistics_scores = data.describe()\n",
        "  statistics_scores.index = ['кол-во', 'среднее', 'станд. отклонение', 'мин', '25%', '50%', '75%', 'макс']\n",
        "  statistics_scores = statistics_scores.apply(lambda x: round(x, 2))\n",
        "  print(statistics_scores)\n"
      ]
    },
    {
      "cell_type": "code",
      "execution_count": null,
      "metadata": {
        "id": "AvWROxnT7B1N"
      },
      "outputs": [],
      "source": [
        "def draw_hist(data, title, labels, bins, density=True):\n",
        "  plt.figure(figsize=(8, 6)).suptitle(title, size='x-large')\n",
        "  sns.histplot(x = data, bins=bins)\n",
        "  plt.xlabel(labels[0])\n",
        "  plt.ylabel(labels[1])\n",
        "  plt.axvline(data.mean(), color='k', linestyle='dashed', linewidth=1)\n",
        "  plt.show()\n",
        "  \n",
        "  print('Коэфицент ассиметрии:', data.skew())\n"
      ]
    },
    {
      "cell_type": "markdown",
      "metadata": {
        "id": "hvflpU9f6uRZ"
      },
      "source": [
        "## ЦТ по математике"
      ]
    },
    {
      "cell_type": "code",
      "execution_count": null,
      "metadata": {
        "id": "0ZKnI89d9IyE"
      },
      "outputs": [],
      "source": [
        "sns.set_theme(style=\"whitegrid\")"
      ]
    },
    {
      "cell_type": "code",
      "execution_count": null,
      "metadata": {
        "colab": {
          "base_uri": "https://localhost:8080/",
          "height": 408
        },
        "id": "aUldjV-lGsFi",
        "outputId": "25fe6da6-a5d3-465a-a67b-fd00905822c9"
      },
      "outputs": [
        {
          "output_type": "display_data",
          "data": {
            "text/plain": [
              "<Figure size 720x216 with 1 Axes>"
            ],
            "image/png": "[encoded data removed]"
          },
          "metadata": {}
        },
        {
          "output_type": "stream",
          "name": "stdout",
          "text": [
            "кол-во               154.00\n",
            "среднее               73.75\n",
            "станд. отклонение     20.38\n",
            "мин                   42.00\n",
            "25%                   65.00\n",
            "50%                   73.00\n",
            "75%                   80.75\n",
            "макс                 285.00\n",
            "Name: CT_math, dtype: float64\n"
          ]
        }
      ],
      "source": [
        "\n",
        "calc_draw_stat(target_df['CT_math'], 'ЦТ по математике', 'баллы')"
      ]
    },
    {
      "cell_type": "code",
      "execution_count": null,
      "metadata": {
        "colab": {
          "base_uri": "https://localhost:8080/"
        },
        "id": "VrmYFBCA7BxL",
        "outputId": "96284562-e8ba-4d18-a8e4-0e96467a7dcf"
      },
      "outputs": [
        {
          "output_type": "stream",
          "name": "stderr",
          "text": [
            "/usr/local/lib/python3.7/dist-packages/pandas/core/indexing.py:1732: SettingWithCopyWarning: \n",
            "A value is trying to be set on a copy of a slice from a DataFrame\n",
            "\n",
            "See the caveats in the documentation: https://pandas.pydata.org/pandas-docs/stable/user_guide/indexing.html#returning-a-view-versus-a-copy\n",
            "  self._setitem_single_block(indexer, value, name)\n"
          ]
        }
      ],
      "source": [
        "target_df['CT_math'].loc[(target_df['CT_math']>100)|(target_df['CT_math']<20)] = np.NAN"
      ]
    },
    {
      "cell_type": "code",
      "execution_count": null,
      "metadata": {
        "colab": {
          "base_uri": "https://localhost:8080/",
          "height": 454
        },
        "id": "WP9gR73uBmra",
        "outputId": "405b25ad-b273-4776-d00c-2ce864c7ebf3"
      },
      "outputs": [
        {
          "output_type": "display_data",
          "data": {
            "text/plain": [
              "<Figure size 576x432 with 1 Axes>"
            ],
            "image/png": "[encoded data removed]"
          },
          "metadata": {}
        },
        {
          "output_type": "stream",
          "name": "stdout",
          "text": [
            "Коэфицент ассиметрии: -0.2056526437435418\n"
          ]
        }
      ],
      "source": [
        "draw_hist(target_df['CT_math'], 'ЦТ по математике', ('баллы', 'частота'), 17)"
      ]
    },
    {
      "cell_type": "markdown",
      "metadata": {
        "id": "ptMWBdgL_Di9"
      },
      "source": [
        "## Математика в школе"
      ]
    },
    {
      "cell_type": "code",
      "execution_count": null,
      "metadata": {
        "colab": {
          "base_uri": "https://localhost:8080/",
          "height": 408
        },
        "id": "YUUcc1whRieO",
        "outputId": "4ad9be83-9c28-470b-fbc2-bdaeab15665f"
      },
      "outputs": [
        {
          "output_type": "display_data",
          "data": {
            "text/plain": [
              "<Figure size 720x216 with 1 Axes>"
            ],
            "image/png": "[encoded data removed]"
          },
          "metadata": {}
        },
        {
          "output_type": "stream",
          "name": "stdout",
          "text": [
            "кол-во               158.00\n",
            "среднее                8.88\n",
            "станд. отклонение      1.10\n",
            "мин                    5.00\n",
            "25%                    8.00\n",
            "50%                    9.00\n",
            "75%                   10.00\n",
            "макс                  10.00\n",
            "Name: school_math, dtype: float64\n"
          ]
        }
      ],
      "source": [
        "calc_draw_stat(target_df['school_math'], 'Математика в аттестате', 'баллы')"
      ]
    },
    {
      "cell_type": "code",
      "execution_count": null,
      "metadata": {
        "colab": {
          "base_uri": "https://localhost:8080/"
        },
        "id": "8XaJTZd3RigS",
        "outputId": "01cc666c-4a3a-40df-9854-a63dd1eaf25c"
      },
      "outputs": [
        {
          "output_type": "stream",
          "name": "stderr",
          "text": [
            "/usr/local/lib/python3.7/dist-packages/pandas/core/indexing.py:1732: SettingWithCopyWarning: \n",
            "A value is trying to be set on a copy of a slice from a DataFrame\n",
            "\n",
            "See the caveats in the documentation: https://pandas.pydata.org/pandas-docs/stable/user_guide/indexing.html#returning-a-view-versus-a-copy\n",
            "  self._setitem_single_block(indexer, value, name)\n"
          ]
        }
      ],
      "source": [
        "target_df['school_math'].loc[(target_df['school_math']>10)|(target_df['school_math']<2)] = np.NAN"
      ]
    },
    {
      "cell_type": "code",
      "execution_count": null,
      "metadata": {
        "colab": {
          "base_uri": "https://localhost:8080/",
          "height": 454
        },
        "id": "LS8fGlbLRiiq",
        "outputId": "9530a8d0-3295-4f11-d91c-4d0f2b419aff"
      },
      "outputs": [
        {
          "output_type": "display_data",
          "data": {
            "text/plain": [
              "<Figure size 576x432 with 1 Axes>"
            ],
            "image/png": "[encoded data removed]"
          },
          "metadata": {}
        },
        {
          "output_type": "stream",
          "name": "stdout",
          "text": [
            "Коэфицент ассиметрии: -1.00185938842719\n"
          ]
        }
      ],
      "source": [
        "draw_hist(target_df['school_math'], 'Математика в аттестате', ('баллы', 'частота'), 6)"
      ]
    },
    {
      "cell_type": "code",
      "source": [
        "plt.figure(figsize=(16,6)).suptitle('Баллы по математике', size='x-large')\n",
        "\n",
        "plt.subplot(1, 2, 1, xlabel='баллы', ylabel='частота').set_title(\"ЦТ\")\n",
        "sns.histplot(data=target_df['CT_math'])\n",
        "\n",
        "plt.subplot(1, 2, 2, xlabel='баллы', ylabel='частота').set_title(\"Аттестат\")\n",
        "sns.histplot(data=target_df['school_math'])\n",
        "None"
      ],
      "metadata": {
        "colab": {
          "base_uri": "https://localhost:8080/",
          "height": 437
        },
        "id": "vatzURoj4zFk",
        "outputId": "af4f85a9-dafc-4c09-b996-30e42a4951f6"
      },
      "execution_count": null,
      "outputs": [
        {
          "output_type": "display_data",
          "data": {
            "text/plain": [
              "<Figure size 1152x432 with 2 Axes>"
            ],
            "image/png": "[encoded data removed]"
          },
          "metadata": {}
        }
      ]
    },
    {
      "cell_type": "markdown",
      "metadata": {
        "id": "PKDiF95XGqJO"
      },
      "source": [
        "## Диаграмма рассеяния"
      ]
    },
    {
      "cell_type": "code",
      "execution_count": null,
      "metadata": {
        "id": "3nNo-g7sXGj_"
      },
      "outputs": [],
      "source": [
        "def jitter(limit):\n",
        "    # Генератор джиттера (произвольного сдвига точек данных)'\n",
        "    return lambda x: random.uniform(-limit, limit) + x\n",
        "\n",
        "def scatter_plot(x, y, title, labels):\n",
        "  plt.figure(figsize=(8, 6)).suptitle(title, size='x-large')\n",
        "  sns.scatterplot(x = x, y = y)\n",
        "  plt.xlabel(labels[0])\n",
        "  plt.ylabel(labels[1])"
      ]
    },
    {
      "cell_type": "code",
      "execution_count": null,
      "metadata": {
        "colab": {
          "base_uri": "https://localhost:8080/",
          "height": 437
        },
        "id": "puwUV4_w5Z79",
        "outputId": "0fdef7a2-5f25-41a9-804e-a4f873d3559c"
      },
      "outputs": [
        {
          "output_type": "display_data",
          "data": {
            "text/plain": [
              "<Figure size 576x432 with 1 Axes>"
            ],
            "image/png": "[encoded data removed]"
          },
          "metadata": {}
        }
      ],
      "source": [
        "scatter_plot(target_df['school_math'], target_df['CT_math'], 'Математика', ('Аттестат','ЦТ'))"
      ]
    },
    {
      "cell_type": "markdown",
      "metadata": {
        "id": "Rq8XTLavck5G"
      },
      "source": [
        "# Корреляция Пирсона"
      ]
    },
    {
      "cell_type": "code",
      "execution_count": null,
      "metadata": {
        "id": "USKyKsDD6P3X",
        "colab": {
          "base_uri": "https://localhost:8080/"
        },
        "outputId": "96ef65ec-da1a-48be-97c7-a6b60c3a15ec"
      },
      "outputs": [
        {
          "output_type": "stream",
          "name": "stdout",
          "text": [
            "r = 0.5102015125224368\n"
          ]
        }
      ],
      "source": [
        "r = target_df['school_math'].corr(target_df['CT_math'])\n",
        "print('r =', r)"
      ]
    },
    {
      "cell_type": "markdown",
      "metadata": {
        "id": "rsgQldUPIhSL"
      },
      "source": [
        "## Выборочный r и популяционный p"
      ]
    },
    {
      "cell_type": "markdown",
      "metadata": {
        "id": "4pQAi77UIL8f"
      },
      "source": [
        "![image.png](data:image/png;base64,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)"
      ]
    },
    {
      "cell_type": "markdown",
      "metadata": {
        "id": "E57am--LIXm-"
      },
      "source": [
        "H0 - это гипотеза, что корреляция в популяции нулевая. Другими словами, наше консервативное представление состоит в том, что измеренная корреляция целиком вызвана случайной ошибкой при отборе.\n",
        "\n",
        "H1 - это альтернативная возможность, что корреляция в популяции не нулевая. Отметим, что мы не определяем направление корреляции, а только что она существует. Это означает, что мы выполняем двустороннюю проверку."
      ]
    },
    {
      "cell_type": "markdown",
      "metadata": {
        "id": "ZhepSnceIz0e"
      },
      "source": [
        "Стандартная ошибка коэффициента корреляции r по выборке задается следующей формулой:"
      ]
    },
    {
      "cell_type": "markdown",
      "metadata": {
        "id": "eeAAUq3pI68h"
      },
      "source": [
        "![image.png](data:image/png;base64,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)"
      ]
    },
    {
      "cell_type": "markdown",
      "source": [
        "Расчитаем t-статистику:\n"
      ],
      "metadata": {
        "id": "zRMmvjmGn25O"
      }
    },
    {
      "cell_type": "markdown",
      "source": [
        "![image.png](data:image/png;base64,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)"
      ],
      "metadata": {
        "id": "dI3ZZjKjnueU"
      }
    },
    {
      "cell_type": "markdown",
      "source": [
        "В приведенной формуле df — это степень свободы наших данных. Для проверки корреляции степень свободы равна n - 2, где n — это размер выборки. Подставив это значение в формулу, получим:"
      ],
      "metadata": {
        "id": "Dm4WQjYcn1i9"
      }
    },
    {
      "cell_type": "code",
      "source": [
        "target_df = target_df.loc[target_df.CT_math.notna() & target_df.school_math.notna()]\n",
        "n = target_df.shape[0]\n",
        "df = n - 2\n",
        "df"
      ],
      "metadata": {
        "id": "CEUk6L51oNWP",
        "colab": {
          "base_uri": "https://localhost:8080/"
        },
        "outputId": "35c7707e-cc15-4b4b-b301-d84805111be4"
      },
      "execution_count": null,
      "outputs": [
        {
          "output_type": "execute_result",
          "data": {
            "text/plain": [
              "148"
            ]
          },
          "metadata": {},
          "execution_count": 22
        }
      ]
    },
    {
      "cell_type": "code",
      "source": [
        "def calc_t_stat(r, df):\n",
        "  return r * np.sqrt(df / (1 - r ** 2))"
      ],
      "metadata": {
        "id": "U_isb3_CpDPV"
      },
      "execution_count": null,
      "outputs": []
    },
    {
      "cell_type": "code",
      "source": [
        "t_stat = calc_t_stat(r, df)\n",
        "t_stat"
      ],
      "metadata": {
        "id": "5SOdJS8OrdT1",
        "colab": {
          "base_uri": "https://localhost:8080/"
        },
        "outputId": "81cfa731-e20a-4482-ef96-02a4b0dae582"
      },
      "execution_count": null,
      "outputs": [
        {
          "output_type": "execute_result",
          "data": {
            "text/plain": [
              "7.216829236061159"
            ]
          },
          "metadata": {},
          "execution_count": 24
        }
      ]
    },
    {
      "cell_type": "markdown",
      "source": [
        "Итак, выборочное распределение этой статистики есть распределение Стьюдента с n-2 степенями свободы.\n",
        "\n",
        "При заданном уровне значимости (α) определяем критическое значение tкр = t(0.025, 148) =  1,984"
      ],
      "metadata": {
        "id": "mmkD0CKcn1k7"
      }
    },
    {
      "cell_type": "code",
      "source": [
        "t_crit = 1,984"
      ],
      "metadata": {
        "id": "MjbHu8Bfs3VK"
      },
      "execution_count": null,
      "outputs": []
    },
    {
      "cell_type": "markdown",
      "source": [
        "|t| > tкр - отклоняем H0 и принимаем альтернативную гипотезу о существовании корреляции.\n",
        "\n"
      ],
      "metadata": {
        "id": "RdyMwwOftjZx"
      }
    },
    {
      "cell_type": "markdown",
      "source": [
        "**Построение доверительного интервала для коэффициента корреляции**\n"
      ],
      "metadata": {
        "id": "kHGkXLXNuNU3"
      }
    },
    {
      "cell_type": "markdown",
      "source": [
        "Распределение выборочного коэффициента корреляции сложное, поэтому часто пользуются преобразованием Фишера для аппроксимации точного распределения коэффициента корреляции.\n",
        "\n"
      ],
      "metadata": {
        "id": "Dl22p72Ruk-8"
      }
    },
    {
      "cell_type": "markdown",
      "source": [
        "При больших значениях n распределение выборочного коэффициента корреляции r стремится к нормальному z.\n",
        "\n",
        "Преобразование Фишера:"
      ],
      "metadata": {
        "id": "in7B_4nPupN3"
      }
    },
    {
      "cell_type": "markdown",
      "source": [
        "![image.png](data:image/png;base64,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)"
      ],
      "metadata": {
        "id": "E-WAdPVMutC3"
      }
    },
    {
      "cell_type": "markdown",
      "source": [
        "Для преобразованного z стандартная ошибка среднего равна:"
      ],
      "metadata": {
        "id": "ltS37_VZvBcO"
      }
    },
    {
      "cell_type": "markdown",
      "source": [
        "![image.png](data:image/png;base64,iVBORw0KGgoAAAANSUhEUgAAAYoAAACECAYAAACOA2zUAAAO70lEQVR4nO3d22/T9R/H8dfWtdu6I9tYd2R01MnGEMZxMJRDUBclYIIJik5CjBdGE8VACN5o9A+QC68WI4oXCAF/ECLDQUDURGCDMI4bAoPRresObKXrDl3X/S4IDQb8giB0G8/H7Xp4lzCe9Pv9fD/fiOHh4WEBAPAPIsM9AABgZCMUAABDhAIAYIhQAAAMEQoAgCFCAQAwRCgAAIYIBQDAEKEAABgiFAAAQ4QCAGCIUAAADBEKAIAhQgEAMEQoAACGCAUAwBChAAAYIhQAAEOEAgBgiFAAAAwRCgCAIUIBADBEKAAAhggFAMAQoQAAGCIUAABDhAIAYIhQAAAMEQoAgCFCAQAwRCgAAIYIBQDAEKEAABgiFAAAQ4QCAGCIUAAADBEKAIAhQgEAMEQoAACGCAUAwBChAAAYIhQAAENR4R4AGMmcTqdqa2s1MDCgJUuWaPz48eEeCXjiCAVwD93d3Tpz5oyOHDmiuro6FRUVqbS0NNxjAWHBoSfgDsPDw+rv79eZM2f0+++/h0JhsVgUGcmvC55OfKMA7jA4OKjW1lZVV1drxowZmjJlirZu3Uok8FQjFMAdzGazsrKy9OGHHyo2NlbHjh0L90hA2BEK4A4RERGyWCyy2WySxDcJQJyjAADcB6EAABgiFAAAQ4QCAGCIUAAGAoGAvF6vOjs7FQgEwj0OEBasegLu4dixY3K5XDp69KiuXr0qv9+vqqoqFRUVKS8vT3a7PdwjAk8MoQDu4Y8//lBtba3cbresVqu6u7tVXV0tp9OpRYsWEQo8VSKGh4eHwz0EMNIMDQ0pGAxKurWth3TrGouIiAhFRkZyfQWeKoQCAGCIQ09jkN/vV01Njerq6tTc3Kze3l5FRkbKZrNp/vz5KioqUkpKigYGBrRr1y7V19fL6/Xe87WysrK0fPly2e12WSyWJ/xJAIwEhGKM6enpUX19vX788Ud5PB4Fg0EFg0H19/fryJEjSkhIUF5enlJSUhQMBtXZ2amffvpJHo9HkydPDm1dMTg4qPr6eplMJpWWlmrChAlh/mQAwoVQjDEul0s7d+7UoUOH9MEHH2jFihVKT0+Xy+XSpk2blJKSopiYGElSdHS0Vq1aperqalksFq1fv17z5s2TJPl8Pn311Vfat2+fbDabTCZTOD8WgDAiFGOMx+PR+fPnNXfuXM2dO1eZmZmKjIxUTk6OKisrZTabZTabJUnBYFBOp1M+n08TJ07U5MmTQ69jtVqVmJiotLQ0ORwOTt4CTzFCMcZYLBYlJibq5MmTqqurU05Ojmw2myIjIxUXF/e3xwaDQTU1NSkjI0MOh0NWq1Vut1tff/21Fi5cqKVLl2rRokUPHYmOjg798ssv2r17t7q6uh7oOevXr1d5eflDvR+Ax4NQjDE2m03l5eVqamrS7t275XK5tGTJktAhpTsFAgHV19fL6XSqu7tbzc3N8vl8On78uKZPn66ysjLFxsY+9CzR0dGy2+164YUX5PP5Hug5WVlZD/1+AB4PQjHGpKam6sUXX1RnZ6cOHDig6upqdXZ2Kj4+Xs8+++zfVi4NDQ3p9OnTCgQC8vv9+uuvv9Tb2yuTyaTExMRHioQkJSQkaP78+Zo/f/6jfixJUldXlw4dOvSfvNZoYLVatWTJEkVHR4d7FDzlCMUYExUVJZvNpo8++kglJSX64YcfdPjwYfX39+uLL75QWlqapFuHnfr6+nT27FktW7ZMq1evlsPh0PXr1/X9998rNTX1kWcZGhqSz+eT1+vV0NDQAz0nNTX1rkNktzU1NemTTz555LlGi6ysLM2ZM4dQIOwIxRhWWloa+rawd+9ebdy4MRSK3t5eXbp0Sd3d3crIyJDNZgsdKtq4cWNoZdSjaGtr0/bt2/XNN9+ovb39gZ6zefNmvfnmm/f8WVFRkWpqah55rtHCZDJp3Lhx4R4DIBRjmcViUWpqqtLS0tTf3687L8Lv6elRQ0ODEhMTlZ2dreTk5NAWFa2trTp69Khyc3O1aNGih37/cePGadmyZSouLtbAwMADPee55577x5+ZzWalp6c/9DwAHg6hGCNaWlp08eJFBQIBlZWVKSYmRh6PR5cvX9aNGzdUWlr6t28JXq9X58+fl91u1/jx42U2mzU4OKjOzk7t2bNHbrdbSUlJkm6d9K6pqVFLS4v6+vok3bqX9O0ltSkpKfecKSYmRg6HQw6H4/H/AQB4bAjFGOF0OnXgwAE1Nzers7NTcXFx8ng8OnPmjMxms95++23Fx8dLunXY6erVqzp+/Lji4uJ06tQpeb1e+f1+uVwu7dixQ88//3zoKu1AIKB9+/apvb09dH+G9vZ2rVq1StnZ2f8YinBraGiQy+V64BVXI0lGRoZmzpwZ7jEASYRizAgGg4qIiFBDQ4OqqqokSenp6Zo7d66WL1+u5cuXhx7b1tams2fPqr6+XpJ04sSJu15v1apVyszMDL32tWvXNG3aNGVmZur8+fNqaWmRw+FQcnLyE/h0D+e7777T/v371dLSEu5R/rVXXnlFW7ZsCfcYgCR2jx0zBgYG1Nvbq76+vtCd2Ewmk6Kjo2W1WmW1WkOPDQQC8vl88ng8//h6SUlJiouLU1RUlAKBQOjeDBcuXJDP59Pq1as1YcIExcbGjtirtt99913NmzdPL730UrhH+ddiY2M1fvz4cI8BSOIbxZgRHR2t6OjoB1olExUVpaSkpNA5iPsJBoM6e/asfD6fHA6H0tPTdeHCBeXk5IzISPT39+vq1atKTk5WXl4eGxoCj4hQwFBHR4cOHz6sn3/+WXFxcbp586ZcLpcaGxtVVlamhISEcI94l97eXtXU1CgvL49VUsB/gFDAkMfj0fHjx9Xf3y+r1arGxkYFg0Glp6crIiIi3OPdk8/n059//qmXX355RIZieHhYAwMDcrvd6ujokNfrVTAYVExMjDIzM5Wenv6PFx0C4UAoYCgjI0PvvPOOent7Q7cGtVgsSktLG7EXg/l8Pp04cUIVFRUjckXW4OCgLl++rL179+rgwYM6d+6c+vv7lZaWpjfeeEMrV67UtGnTRmyI8fQhFDAUGxurgoKCUCSkW/eONplMiooaeX99/H6/enp6JEnx8fEj8q58brdbFRUVWrx4sTZs2KDc3Fw5nU5t2bJFO3fulMViUU5OTugqeiDcRt5vOkaUyMjIUbXXUGdnp5xOp+bMmaPExMQR+b/ycePG6dNPP5Xdbld+fr6SkpKUmpqqwsJC1dXVKSIiInTNCzASEAqMSnd+a7hTR0eHmpqatGDBgtCJ9ra2Np0+fVrnzp1TYWGhCgsL5ff7deLECblcLtlsNs2ePVuTJk16IrPHx8fr9ddfl3RrhVZ7e7uuX7+unp4evfDCC5oxY8Z/stcW8F8hFBg1bl8V3tXVpYaGBlmtVs2aNetvJ347Ojp07do1lZeXy2q1qqenRxcvXlRVVZV2796tsrIylZeXy2Qyad++fTpx4oRiY2O1YcOGJxaKO2e9ePGi6uvrdfnyZV25ckVvvfWWZs+e/UTnAO6HUGDU8Pl8Onr0qKqqqrR//35NnjxZn3/+uWbMmCHp1mqi9vZ2Xbp0SZMmTZLJZNLJkyfV0tKikpIS2Ww21dbWqqqqSmVlZdq0aZMaGxu1fv16ud1uw/ceGhpSMBjUg16fajKZ7nuf8V9//VWVlZU6cuSI4uLitGLFCsXFxY3Ia1PwdCMUGDUsFosmTpyodevWhW66dODAAZWUlCgiIkJtbW0aHh7W1KlTQ+cmJk+erPz8fLW2tqqyslJOp1MrV67Uq6++qtjYWJ07d06pqamG5wQ8Ho/27t2rbdu2qbm5+YFmXbdundasWWP4mKVLl6qkpEStra2qr6/Xjh079Nlnn2nNmjWqqKhgiSxGDEKBUeP2aiCr1arFixfL7Xbrt99+09q1a5WSkiKXyyW/36/CwsJQKG5vX9LZ2am6ujrZ7XYVFxcrIyMjdAgrJyfHcLuMmJgYTZ8+XWazWV6v94FmLSkpue9jkpOTlZycrNzcXGVnZ6urq0vffvutLl68GNrYERgJCAVGDZPJFDpBPWvWLJ0+fVq7du1STU2NFixYoMbGRnm93rvuD357+/QLFy5o6dKlstvtMpvN6uvrU21trQoLC0MbIN5LdHS0iouLVVxc/Fg+l8ViCZ1Q3759u3p6ekbljrcYuzgYilFp4sSJmjp1quLi4rRnzx61tbWpsbFRN2/e1DPPPPO3ZbE9PT26fv26bty4EdqrKhAIqKurS3V1dcrKypLZbNaNGzce+JatD+v2+546dUput1t+v1/Dw8MaHBxUT0+PIiMjZbVaWfWEEYVQYNQqKChQWVmZdu3apYaGBnV0dCgQCNx1vqGrq0tXr15VQkKC7Ha7kpOTdfPmTV2+fFlOp1Mmk0nHjh3T/v375fV6H/iE9cPo7u7WwYMHtXjxYm3btk1tbW0aHByU2+3W//73PwUCARUUFMhutz+2GYB/i1Bg1MrLy9PChQslSVu3blV3d7fy8/PvetyNGzfU1NSk2bNnhyISGxur9PR0ZWdnq7KyUleuXFF+fr4SEhIe60V6ycnJKi0t1ccff6yTJ09q7dq1WrBggSoqKuTxePT++++Pym3RMbZxjgKjVkJCghwOh2bOnKm6ujqVl5ff81qInJwcvfbaa/L7/crIyJB067xAQUGBvvzyS/X396ugoEAOh+O+S1ofVVRUlGw2m1atWqUrV67I7XbL5/PJbDYrNzdXxcXFoTsLAiMFNy7CqNbe3q4dO3Zo8+bNWrNmjd577z3+oQX+Yxx6wqiWlJSkFStWqLS0VFOmTCESwGPANwqMerfv7xAVFTUid7QFRjtCAQAwxKEnAIAhQgEAMEQoAACGCAUAwBChAAAYIhQAAEOEAgBgiFAAAAwRCgCAIUIBADBEKAAAhggFAMAQoQAAGCIUAABDhAIAYIhQAAAMEQoAgCFCAQAwRCgAAIYIBQDAEKEAABgiFAAAQ4QCAGCIUAAADBEKAIAhQgEAMEQoAACGCAUAwBChAAAYIhQAAEOEAgBgiFAAAAwRCgCAIUIBADBEKAAAhggFAMAQoQAAGCIUAABDhAIAYIhQAAAM/R8z8/RwxdokDgAAAABJRU5ErkJggg==)"
      ],
      "metadata": {
        "id": "QqLyO_I9u72G"
      }
    },
    {
      "cell_type": "markdown",
      "source": [
        "В целях вычисления интервала уверенности в терминах SEz, мы можем взять число стандартных отклонений от среднего, которое дает нам требуемый уровень доверия. Обычно используют число 1.96, так как оно является числом стандартных отклонений от среднего, которое содержит 95% площади под кривой. Другими словами, 1.96 стандартных ошибок от среднего значения выборочного r содержит истинную популяционную корреляцию ρ с 95%-ой определенностью."
      ],
      "metadata": {
        "id": "lE0OvgS6vMBi"
      }
    },
    {
      "cell_type": "markdown",
      "source": [
        "![image.png](data:image/png;base64,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)"
      ],
      "metadata": {
        "id": "nQCzxRIhvRW7"
      }
    },
    {
      "cell_type": "markdown",
      "source": [
        "Однако, как показано на приведенном выше графике, мы хотели бы вычесть ту же самую величину, т.е. 2.5%, из каждого хвоста с тем, чтобы 95%-й доверительный интервал был центрирован на нуле. Для этого при выполнении двусторонней проверки нужно просто уменьшить разность наполовину и вычесть результат из 100%. Так что, требуемый уровень доверия в 95% означает, что мы обращаемся к критическому значению 97.5%:\n",
        "\n"
      ],
      "metadata": {
        "id": "DBfuhs4HxngG"
      }
    },
    {
      "cell_type": "markdown",
      "source": [
        "# Поэтому наш 95%-й доверительный интервал в z-пространстве для ρ задается следующей формулой:"
      ],
      "metadata": {
        "id": "uCdZimbPvrQJ"
      }
    },
    {
      "cell_type": "markdown",
      "source": [
        "![image.png](data:image/png;base64,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)"
      ],
      "metadata": {
        "id": "aoCOqBkkvvaN"
      }
    },
    {
      "cell_type": "markdown",
      "source": [
        "Подставив в нашу формулу zr и SEz, получим:\n",
        "\n"
      ],
      "metadata": {
        "id": "xB0o2ESSvzbM"
      }
    },
    {
      "cell_type": "markdown",
      "source": [
        "![image.png](data:image/png;base64,iVBORw0KGgoAAAANSUhEUgAAAcYAAABkCAYAAAAcwZB4AAAgAElEQVR4nO3daVSbZ3r/8S8SSEJC7PsOYjUYAtgOWRwbk3g5cTKNncUnk4zjZurJzIt2OtOenmnTTtvTf5pJT5p2pj09E+fMZOxM4kwTnyROQmzHrrFxAjY2tjHEYMDsuwCxSGj/v0hRRfAaC/ByfV6KR49ugdDvee7luv3cbrcbIYQQQgCgWOwGCCGEEDcTCUYhhBDCiwSjEEII4UWCUQghhPAiwSiEEEJ4kWAUQgghvEgwCiGEEF4kGIUQQggvEoxCCCGEFwlGIYQQwosEoxBCCOFFglEIIYTwIsEohBBCeJFgFEIIIbxIMAohhBBeJBiFEEIILxKMQgghhBf/xW6AuL24XC7GxsY4ffo0ERER5ObmolKpFrtZV2S32zl//jxms5mEhAQSExO/1XmOHz/O4OAgGzdu9HELxZ3E5XIxMTHBqVOniIqKIjExkdDQ0MVu1h1F7hiFz0xPT9PR0cHnn3/Ov/3bv/H555/jcDgWu1mXZbfbGRoa4tSpU7z11lt88MEHXLhw4Vufr6Kigtdff92HLRR3munpaTo7Ozl8+DC//OUvOXLkCEajcbGbdceRO0bhE263m+7ubn73u9/xq1/9CpPJRElJCVqtdrGbBnzdPgA/Pz/PY0ajkf379/Paa6/R2NjI008/fVPf3V7qPYjbS2dnJ//93//Nq6++islkorS0lICAgMVu1h1H7hiFT9TW1lJZWUlBQQH/+q//SmFh4WI3aZZjx47x+9//nv7+fpxOJ0ajkaNHjzIwMMDLL79MWVkZYWFhi93MS3I4HLS1tbFz506OHTu22M0R86Suro7a2lpSU1N59913iYiIWOwm3bHkjlH4RHx8PCqViuDgYPr7+wkKClrsJnkcOXKEhoYGQkJC0Ol0KBQKAgMDyc/PJz09nbi4OMLDw/H3X9h/B7fbjcVi4cCBA5w6dQqdTsfGjRvR6/VUVlbS0NBAREQEmzZtQq/XMzY25jmuqKhoQdsq5l9sbCxqtRqNRoNGo5E7xUUkwSh8IiEhgYSEBGw2G0NDQ4vdHACcTieDg4NUVVURGBjI/fffj16vB0Cr1ZKbmwt83aW6GN2Tdruds2fP0t7ezsmTJ5mcnESn0xEbG0tfXx/V1dX4+/uzceNGQkNDKSgooKqqioMHD5KYmEhERAQKhXT63C7i4uKIi4sDoLe3d5Fbc2eTYBS3Jbfbjdls5uDBgwwNDfHAAw+wdOlSn5zbarUyPDzM2NjYrMcHBweZmJigoaFh1uNarZbY2Fg0Gs2sALbb7TQ0NFBcXIzD4eDzzz+npqaGpUuXsmHDBrRaLS0tLcTHx6NUKikrK6O9vZ3KykpqamooLy8nMDDQJ+9JCPF/JBjFbclut9PT08Mrr7zCCy+8wN133+2zc1+8eJF///d/Z+fOnXNe0+VysWLFilmPl5aW8otf/IKCgoJZk3u0Wi3f+973UCgU1NXVMTw8TGpqKlu3biUyMpLs7GxcLhcqlcoTqKtXr8ZisbBjxw5KS0slGIWYBxKM4rY0ODjI4cOHiYmJISsri8jISJ+dOykpiR//+Mc89dRTsx7/3e9+R1NTEy+99NKsx0NCQjAYDHPGMP38/AgICGBkZITe3l40Gg2bNm0iODgYhUJxyW7SuLg4UlJS6O/v5+jRo6xcudKn700IIcEoblM9PT1UVFRQWlpKcnKyT5dh6HQ6srOzyc7OnvV4ZWUlRqOR1atXX9f5ent7MRqNhIWFUVRUdMW2ajQaEhMTWbp0Kfv37ycjI0OCUQgfk5F74VNutxuHw4HL5cJmszE9Pb3gbTCZTFy4cIHGxkYeeOABYmJirvocm82GxWLBbrcvQAtna29vx2q1kpiYSGRk5FUn1MTExPDAAw9QU1NDe3v7ovyOxfyZ+d9xu93YbLZF+Uze6SQYhU/Y7XbGx8cZGBigo6MDi8VCf38/58+fZ2hoCKvVisvlWpC2tLW1UV9fj16vp6CggJCQkEseNzU1RX9/P729vQwPD9PZ2UlnZyeDg4OYTKYFa29raytKpZKsrKxrOj4kJIQlS5YwPDxMc3PzTTMLWNwYh8PB+Pg4PT09tLa24nA46OnpobOzE6PRiNls9hR5EPNLulKFT7S2tnLo0CEOHDjAl19+ycjICJ2dnZw5c4aioiKef/558vLyPMsl5lNHRwfd3d0UFRVdcS1YRUUFu3btoru7m/Pnz+NyuWhubuazzz7jnnvuYdu2bQuyHrO5uRmXy0VGRsY1HT/TnZqdnU1rayttbW0kJSXNcyvFfOvt7eWTTz7ho48+oqmpidHRUXbt2kVtbS2rVq3ioYceYvXq1Wg0msVu6m1PglH4REJCAuvWraOoqIjR0VFcLhdKpRK1Wk1ISAhpaWkLNoOyq6uL/v5+vvOd71xxvO6ee+4hPj6e6elpLBYLbrcbjUZDcHAwERERC/YF9IMf/ACXy0VCQsI1He/n54dGo6GoqIiWlha6u7vnuYViIURGRrJu3TqWLl3K1NQUDocDt9uNTqcjIiKC6OhoWfS/QCQYhU/o9Xr0ej0Gg+Gajne5XBiNRj7//HPa29tJS0tjy5YtN9yOsbExent7mZ6eJiMj44rVbGaKEvjKAw88cM13fd4KCgqu+zkBAQFkZWVRU1PDwMDAdT8fYPfu3cTFxbFq1apv9XwAi8VCb28vjY2NZGRkkJSUdFNVPbLb7RiNRo4dO0ZcXBwZGRlER0cvdrMuSavVkp6eTnp6+mI35Y4nwSgWxUw5tJqaGj788EOWLl3qk2AcHBxkeHgYpVJJQkICSqXSB629NmVlZQv2WkqlksTERCwWC4ODg0xOTl53IL399tuUlJR862CcnJykpaWFmpoahoaGCAkJITY2dtYxM8FptVrJzMzE39//ilWGHA4HExMT9PT0MDw8zPT0NCqVivDwcFJSUtDr9Ze82HE6nUxOTtLX14fRaEStVpOYmEhYWBiTk5M0NDTQ3t7O2NgY+fn5JCcnf6v3LO4MEoxiUSiVSpKTk3n22WcZHh5mfHzcJ+cdGxtjamoKlUp1W5dMUygUREZGolKpGBwcpKOjg7y8vAV7fafTyfnz5/n00085e/Ysv/jFL0hOTvZ09bndbqxWKxcuXOCdd97BZDLx0ksvERwcfNlgdLvdmEwmTpw4wXvvvUdVVRVDQ0OEhoaybNkytm3bxooVKwgPD5/1vJk9QOvr6/n444+pqqoiKSmJZ599lkcffZT09HT+9E//lD/84Q989tlntLa2sn379lmFE4TwJsEoFpWviyX39/czMjKCRqMhNjZ2Qe8YF5JCoSA8PByVSoXNZsNqtS7o61+8eJH333+fzs5O/umf/onExMRZd3IWi4U9e/bw29/+ltOnT7Nq1SpP4YLLsVqtVFdX87d/+7cUFhby0ksvkZKSQkdHB3v37uXll1/m//2//8d9990363m9vb28+eabfPHFF5SXl/Piiy+SnZ3tqTuqUCgIDg7mqaeeQqFQUFtbS0VFBevWrZPKQeKSJBjFovLz8/PpVbvdbsfpdKJSqRZ8t4yFpFQqiYmJQaPRYDKZGBwcXNDXr6ysxGw2c++995Kenk5AQIDn79jb28vRo0dRKpVs2LABl8uFw+G46t17f38/9fX1DAwM8NRTT7Fs2TL0ej0JCQm43W5+8pOfcPr0aQwGA7GxsTidTvr6+tixYwc9PT2sX7+edevWERkZSXBw8KwLLoVCQUhICPn5+bS0tLBr1y6KiopISEi4rT8n4tuRT4SXvr4+qqqq6Ovrm7XzvFKpJDw8nDVr1vh0ssZiMRqNnDx5knPnzl3T8fHx8axevZqoqKgFuQPr7u7m9OnTdHd3k5CQQHZ2NufPn6e7u9uzXVRhYeElZ5yaTCYCAgJu2gkWvuLn54dOp8Pf3x+LxcLU1NSCvK7L5WJycpLq6mp0Oh2lpaVz/g7+/v6EhYURHx+PwWCgsbGR4eHhq57baDR6ZtgWFBR4KvpERUVx1113YbfbaW1tZWBggNjYWKxWK5WVlZw8eZKioiI2btx41YkrBoOBjIwM3n//fZqbmwkNDb3sOldx55Jg9NLW1sZrr72G1WpFpVLhcrkwmUyMj497dme4HYJxYmKCkydP8umnn17T8UuXLqWwsJCIiIgFCUaj0cjevXupqKggNzeXZ555xrOJ6/T0NKWlpSQkJBATEzOnPYODg/j7+98WfydfcLvdTE5OcvHixTnjuDNrTauqqmY9HhMTQ0JCAlqtds75nE4n3d3dXLhwgZKSEtLS0uYcEx0dzdq1awFobGy87jbP3AmGh4ej0WhwOp2e5TSjo6NMTk7idruZmJjgww8/9LR5cnLS817CwsI8+2x6i4qKIjU1FbVaTWNjI9nZ2RKMYg4JRi9TU1OMjY3xn//5nxQXFzM1NUVlZSWffPIJ//AP/3DbLKJOTU3lZz/7GT/72c98cr6ZEnDXQqlUXjVcCwsLWblyJWfOnPFUdvnxj3/M0NAQb775Jrt37+bRRx8lKCiI4ODgWc+1WCzYbLbLnnumZN2tVEHEz8/vqrM5L8dut3P+/Hn+8i//ki+//HLWzxwOB9XV1bz11luzHt+6dSt//ud/7tmv8pvPaW5uZnJykuDg4DnBcyMSExPJycnBZrPx/vvvo9VqMRgM9Pf3c+TIkVnjqHa7naGhIY4ePUpRURF1dXXs2bOHY8eO4Xa7efDBB/nhD3/Iww8/PKcLV6/Xk5aWRnd3N2az+YptuhU/LzfiRj5rtxMJRi/33HMPe/bsITExkZGREQ4cOEBPTw9/9Vd/RUJCgiyuvYyf/OQnHDly5JqOfeGFF3jhhReu6Vi9Xk9sbCyPPPIIsbGxnhJvu3fvxmw243Q6r7utw8PDPP3007dUGbWoqCjefvttoqKirvu5AQEB5OXl8cYbb8zpbv2zP/szcnNz5/w9wsPDL/taLpeLoaEhUlNTSUxMvO72XElERARr1qxhaGiIvXv3snfvXsLCwjAYDKSmpuJ0Oj13gWazma6uLs9nYPny5Wzfvh2lUklTUxO7du3i448/Jjw8fM5kHfg64C9cuMDExMQV23Qrfl5uxI181m4nEoxe9Ho9mZmZDAwMcODAAaanpykrKyMrK+u2mtrd29vLgQMHOHbs2DUdbzAYePLJJ0lKSrrkRIWNGzde8ybAJSUl19xOpVKJTqfzzL5UKBREREQAX39Bf5ureJ1Ox7Zt2xZsTM4XdDodOp3uWz3Xz88PrVZ7ycIDwcHBxMbGUlhYeM3nc7vd2O12NBoNarX6W7Xpcvz9/UlNTWXLli3k5uYyNTVFQEAAOp0Os9mMv78/0dHRhIaG4nK5sFqtuN1usrOzKSoqoqCgALVaTUpKClVVVXR3d3PmzJlLBqPb7WZ6evqqPR234uflRtzIZ+12IsHoxWazMTQ0xKFDhzCZTBQVFbF8+XKffwHcbmbGk+abv7//Ve/aAwICPF/el6LVann66afno3l3FLvdPmuCmq9otVpyc3NndeN2dXXx0UcfYTAYSEtLIyQkBLvdTmBgIH5+foSFhREREeFZehEVFUV0dDSdnZ2MjIzccHvk83LnkWD8Xw6Hg8HBQWpra6mtrWXLli3k5+czNTVFX18fSUlJKBQKxsfHMZvNqFQqtFqtZ0KDXq/3XGlNTEwwMTGBzWbz3GHNLMa2WCyMjY0REBBAYGAgVqsVi8WCWq2eteXQzNiGyWTyVNUPCAjwVAFRKBSeq+aZNimVSkJDQ+eMu31TfHw8W7duZevWrfP4G702M3d+M1vteE/7v9SxM1f4l7tj1Ov1noXiwvdmNleemJi46vgcXPnvazab6evrY2pqitTU1DmfW5vNxvj4OPX19VRWVrJu3Tpyc3PRarVMT08TFRVFcHAwAwMDDA4OkpqailKpxGKxMDk5iVqt9vQwXOp9qNXq27YAhLgxEoz/a6ae4kcffcTf/d3fkZqaysDAAPv27WPv3r385je/Qa1Wc/DgQY4fP05SUhJ33303H3/8Mf7+/pSVlXH//fcD8OWXX7J//346Ozs9JbK2b9+OwWDg7Nmz/OEPfyAuLo6SkhKam5upq6sjMzOTF154wbP7hN1uZ3BwkL1791JTU4PT6SQ+Pp60tDSeeeYZgoKCsFqtNDU18emnn3Ly5ElCQ0N5/PHH2bBhw6L9Hq/X9PQ0drud6elp+vv7r1jGzWq1MjU1hcvluuwYY2JiIm63WwprzxOFQkFUVBSDg4PXNO52pb/vuXPn+Ju/+Rtqamp45513ePjhh2c9t7e3l4qKCvbt28f09DTf/e53SUlJAb4uDJGcnMzy5cs5c+YMqampGAwGwsLCaGho4Pjx4yQnJ7Ns2bJLtsvf35/MzMwF2e1F3HokGPl62vq7777Lb3/7W3p6emhqakKtVmO321Gr1RQVFaFUKqmvr2doaAiz2cwHH3zAxMSEp3tvZGQEs9nMnj17OHz4MNHR0axatYqGhgbg6zvAixcv0tTUhFarZd++fXR1dZGRkUFMTAyffPIJW7du9fyjNjc38/rrr2OxWCgpKWFkZISenh6ioqI8d0r79u3j4MGDpKam8thjj/Huu+9y7NgxcnNzSU1NXbTf57VwOBx0d3fzm9/8hsrKShwOBz//+c959dVX6erq4ujRoxw/fpzQ0FA+/vhj1q1bR2VlJf/xH//B5OQkr732Gmq1mvLy8kvOjLzdZxE6nU5PLdGwsLA5NUrni7+/P1lZWQQFBTE+Ps7IyMic3//w8DA1NTV88cUXfPHFFzQ0NOByufiTP/kTsrOzefTRRykuLvb0ithstlljfRMTE/z617/m9OnTBAYGUl5ezvLly0lOTp61ZjI4OJif/vSnfPjhhxw6dIj33nsPjUZDVFQUq1atoqys7JIza0dHR6mvr2fNmjWXXJJyI95++20+++wzLl686NPzLpTIyEh27NjhWUN6p5JgBE/4KRSKOVP9g4ODycnJQavVEh8fz9jYGD09PSgUCgoLCwkKCsJut6PT6ejt7WXPnj0UFBSwevVqlEolHR0dREZGotVqCQoKIi0tDZPJhNvtJicnh/z8fJqbm9Hr9Z5unYmJCVpaWqivr+cHP/gBhYWFVFdXMzQ0RHx8PEqlkra2Nqqrq6mpqWF6epqGhgZUKhVJSUmLehXsdDo9GxMHBAR4dt34JoVCgV6vZ+3ateTk5ODn50dUVBQajYaIiAgeeeQRsrOzUavVLFmyBK1WS1ZWFlu3buWJJ55ApVKRlZU1Z/w3PDwcvV6P2WxmdHSUkJCQa+4uGxkZ8bT5ZjczO9RqtRIYGPit2vz8889fdyGEmeLlmZmZWK1WmpubKS0tnXWMRqMhJSUFp9NJUlKSp5t/ZrggKSkJtVpNcnIyP/rRj3jsscdm1XkNCAigqKiIuLg4QkNDycjIICUlBbVaPaubPSAggPz8fJRKJbm5ufT393uKceTl5ZGWljansPrQ0BAdHR24XC7y8vJ8vobxq6++QqfT8dhjj/n0vAslKChI9ntEghH4eibWypUrWbly5RWPm+leDQwMpKSkhPvuuw+VSsX09DSTk5O0t7fT09PD888/T3FxMXV1dQwNDXmOCwsLIzk5mZMnT5Kdnc3999+PTqejo6ODgoICxsfHPWMmXV1dhISE8OCDD6JQKDCZTFitVnJzc/H396e1tdXzxa/T6RgeHiYzM5MlS5ZcdlxlPplMJrq6umhra8NkMjE5OYndbicyMpLly5eTlpY2a0brzAzTP/qjP5pzLq1We8mlAEVFRRQVFV2xHTPlwEZHRxkcHJx1wXEpM7s5NDY2YjabSUtLu2WC0Wg0YrPZPPtHXu640dFRz2fxm9rb22lvb5/1WHp6Ojk5OZcMjZm6o6WlpZw8eZIvvviC4uLiWWOHQUFB5Ofnk5+ff8X3oNPpeOKJJ+Y8rtFoKC8vv+JzYfa+lFf7XMxoamqiubmZ5cuXk52d7bMZmDO/Z4fDwX333cczzzzjk/OKxSHBeJ36+voYHx9n9erVqNVqNBqNZzacxWLxdHV2dXVx6tQpqqurefLJJxkfH0er1WIymWhqamL58uVERETQ2tpKd3c30dHRtLa2EhISgtFoZHR0lMTERIxGI319fZw4cQKTyUR6erqnDFhoaCglJSWsXLmS8PBwent7F+1LvaWlhQ8//JDKykqSk5M9458ul4stW7bwwx/+kLCwsHlf8hIWFoZer8dms3kmZFyuFqbVasVoNNLY2MivfvUrMjMzeeyxx77VnooLzel0Mjg4iNPp9FSqudxx3d3dvP7665w6deqazv3444/z/e9//4p3U6tWraKlpYWTJ0/S1tZGWlraTb+kaXx8nNOnTzMwMMCzzz5LdHS0z+qk2u12zp07R2ho6G1fjvBOIMF4nXp6eujt7SUrK2vWP5VKpSIoKIjTp0/zyiuvkJWVhd1uR6/X8+tf/5rNmzezevVqRkdHOXfuHM899xyhoaEYjUZqa2sxm80EBweTl5dHTEwMOp2OvXv30tXVRUFBAQ6Hg9jYWM+2PbGxsYyOjlJVVUVTUxMKhYInnnhi0f4pZ6qhvPLKK2RmZqJUKvnggw/YsWMHb7zxBmvXriUvL8/nYzrfFB8fT3x8PDU1NXz11VcUFRVddrnNV199xb59+6iqqqKurm7Bxul8wel00t7efsXF+PB/C/x37Nhxzcsr1Gr1VXedSEtLY/PmzXz66ae8+OKLc7aduhnN1EddsWIFGzZsuGSt3W/LZrNRW1tLXFyc7PV4G5BgvE4rVqwgJSWFuLi4WbMnNRoNOTk5vPrqq7hcLuLi4tBqtfT09ODv78+SJUuIiorC6XSyfft2srKyPF2yMxMZli1bhtFopL29neDgYH7+858TERFBQ0MDkZGRZGdne67Is7Oz+eM//mNWrlyJQqHAYDCQkpLi0xJd12PVqlUUFRWRmJiITqfDz8+P4uJiSktL2blzJ8PDw9hstnkPRoVCQUJCArGxsbS0tFw2DEZHRxkbGyMlJYVly5bxL//yL4u2sNlsNmM0GnG73Z4v1ZnH7HY70dHRnt/pDJvNxunTp4mOjr5qXVh/f3+fj6UplUpycnLw9/cnJiaGd955x1NPOCwszKevdSNmlmHt3LkTlUrF+vXryc/P9/naZJvNxqlTp3jyySeJiYnx6bl9qbOzk9raWs+kKPj6YrK8vJw1a9bcUheH80mC8TplZWWRmpo654p6Zg3h+vXrsdlsBAYGolaryczMBL4edwkICCAmJoYHH3yQ0NBQlEol8fHxhIWFYbVaiYiIoKqqitraWvr6+sjIyKCrq4vW1lYyMjK45557PK8XEhLCXXfdhcFgwGazLfregzN3at+kVCrRarVERUUtWKGE5ORkEhMTqa+vv+xC/4CAAJKTk0lKSiI0NJSIiIgF337I5XIxPDzM4cOHqa+vR6vV8tBDD6FSqTh79iznzp1Dr9fz1FNPzeoSttvtDA8P09DQwCOPPOJZwrDQgoKCyM7ORq/X09jYSFRU1E13xzgzDpmVlUVsbCwZGRk+71VxOp2YzWZGRkbQ6XRzJvzcDJxOJ/39/bz33nuMjIwQExODXq9nfHycU6dOMTY2hsPh4Hvf+95iN/WmIMF4na505T2z55u3b149BwYGzrrCDwgImPVlotPp0Gq12O12Ojo6PBNs7rrrrjmTGTQazU07g8xsNtPU1ERvby/33nsvaWlpC7YpbFpaGgaDgUOHDjEwMEBwcPCcUA4KCvJ8gRmNxus6v8PhYHp6+orFyr35+/sTGBg4pzizw+GgtbWVCxcucPz4ccxmM1arFYPBwMWLFzl16hR6vX7OBJWpqSna2tqYmJggIyPD5zVLr0dgYCAGgwGDwbBobbiSmVmqmzZtmrfXsFgs9PX1ERERMWcfyJuF2+32bJKQkJDAww8/TGJiIsPDw7z44oucOHGCuro6Ccb/JcF4kykpKcFgMDA4OIjJZCIwMJCUlJRbYqbkDJfLRVtbG1VVVZjNZl588cUFbX9KSgqFhYUolUqOHz9ORESEZzd3X5iamqKjo4O+vr5rOj4kJITMzMw5k48cDgc9PT1s3ryZyMhIdu/eTXV1NRkZGWzfvp2ioiI6OzvJysqadb6RkRHq6urIyMjwnFfMv5kqPt/smRkbG6OxsZEVK1Z41v/NlCWcnJzE6XR6epAcDgdTU1O43W7PWO5CBOnM+tN//Md/9LTP4XAQFBRETEwMWVlZN+3FzWKQYLwJBQcHo9PpcLlcnm1gbhUul4uJiQneeOMNLBYL27ZtY8mSJQt+FZ2YmMgjjzzCgQMHKCws9Gkwjo2NUVVVRWVl5TUdn5WVxTPPPDNnTWVgYKBnEsjevXuxWCw8/PDDPPTQQ0RGRlJeXn7JMdLu7m4qKirYtGmT7Du5gIxGI9PT03O2nzOZTDQ3N7N27VrPRcrU1BT19fX88z//M729vTz++ONs3LiRM2fO8F//9V9MTEywfv16vvvd71JQULDg72VqaoqWlhbq6uowGo2UlZXx6KOPLng7bla3zjfuHUShUNySNRwdDgdDQ0O89dZbpKamsnTpUvLy8rDZbJ5x14UK+djYWMrLy/nrv/5rGhoaSElJ8Vk1j8jISB588MFr3lEkODiYuLi4OX9TPz8/dDodg4ODDAwMoFaruf/++wkLC/OMzX5TZ2cnjY2NBAQEUFZWJksD5pndbqepqYm6ujqqq6tRq9X86Ec/mjXmOzY2xrlz5/j+97/v6Z7v7e3l4MGDbNmyhV/+8pfU1NQQGRmJv78/P/3pT9m1axeDg4P09vYueDAeOXKEDz74gPr6esxmM3l5eSQkJNxSvVLzTYJR+ITD4eDixYvs37/fczW8dOlSrFYrdXV1REVFkZycvGDBqNfrycvLo7S0lAsXLtDU1OSzYNTpdGRlZc3p4vy2urq6GBsb88w8vtzvyGazUVdXx1dffUV5eTnp6WeXrDkAAAYGSURBVOkLNm57p3K73dhsNvR6PWNjY7S2tpKXl0dcXBz+/v5MTU0xMTFBYGAgISEhnp4RnU5HTk4Oy5Yt480332RychKAgoIC8vPzOXTokKdL9UqOHTtGY2Mjo6OjV21rWFgYS5YsueQ2W96CgoJISUlBoVAwPDzM2NgYX375JTqdjjVr1lzjb+b2JsEofGJ4eJgTJ06wb98+tm7dSnx8vGessaKigvLycs/6zIWgVCqJjIxk27ZtvPPOOzQ2NpKbmztnOYvT6WR6ehqLxcL4+DhTU1M4nc4FneHb3t6O3W4nJSXliuOFnZ2dnDt3DrvdzubNmyUUF4BSqSQhIYElS5YwPj7Ozp07+eyzz1i/fj0ajYbh4WGmpqa46667Zg0XJCQk8J3vfIfm5mbPGuS8vDyKioqwWq2MjY2h0+muuiHwhQsXOHz4ML29vVdta3x8PAEBAVcNxuLiYoqLi7HZbJw7d45XX32ViooKrFarBOP/kmAUN8ztdnPu3DlOnTqFwWAgMDCQixcvcvHiRc6ePcvBgwev+s86H1QqFcXFxZw8eZL+/n6qq6vZsGGDZwLMTDm4jo4Oent7GR4eprCwkJKSEoKDg+fMIp0vra2tKJVKsrOzL3uM0+lk//79WCwW1q1bR05Ozry3S3wdjDPrEpctW0ZjYyNvvvkmFy9eJDQ0lMHBQUZHR8nPz58zju5wOGhubsblcpGdnU1+fr5n2URfXx9Lly6dM175Tc899xzPPffcvLy3mf+P9evX09XVxYULF+bldW5FEozihhmNRtra2mhpacHtdvP73//eM542PT1NfHw8QUFBi7bOcvPmzRw6dIi2tjb6+vqIiYlBqVRSUVHBRx99hNVqRa/X4+fnx//8z//Q3NxMfn4+W7ZsWbA73JSUFJYsWXLJn810oY6MjFBYWEhZWdmCtEnMZjAYWL58OW+99RYHDhwgLi6O9vZ2uru7Wb9+/ZxKOna7nfr6emJjYzEYDOh0Omw2G01NTYSGhpKenr4odY2/KTAw0KdVgG4HEozihs0UYb/cVlcqlcqzwexiCA8P5+6778ZkMhEcHOwJ7SVLllyy6IBKpSIiImLBviw2bNiA2+2+ZIEE+PquJTk5mY0bN3rWyomFp1arSU9PZ+XKlRw6dIi7776b/v5+pqamiI6OnjO5aqY6UUJCAomJiZ7de06cOIHT6cTtdtPS0sLIyAglJSXzWgDDarVy7Ngxamtryc7OZvXq1ej1ek+BeYVCcc2Tye4EEozihgUGBpKbm3vJve9uFklJSXO6rW6WhelX+0JSKpXExcX5dMmJ+Hbi4+PZsGEDf//3f8/hw4dRKpWEhYXNuYhyOByMjY3R3NxMYWHhrFJrTqfTsydkdHT0ZS+IfGlm3WJbWxtdXV10dnaiVCoxm82e3X1kfPH/SDAKIcQ1Cg8P59577yUmJoaDBw9SWFjIsmXL5hzncDiwWCwkJCSQk5PjmWSjUqlYvnw558+fZ3x8HLPZPGfiznxQqVSUlpZisVg4cuQIn3zyiaeE3f3338/atWspLi6e1zbcSvzct/tW50II4UMmk4mXX36Z3bt3U1ZWxl/8xV9cdnx4pkiH9yQut9vtWabxzZ/Nt5nX9f7an3n9m3nLsIV2660iF0KIRRQYGMimTZvIyMggJSWFtLS0yx6rUCjmBI6fn5+niMdCh9FMEM+8/kwbJBRnkztGIYS4Dm63m8nJSY4cOUJsbCwlJSWL3SThYxKMQgghhBfpShVCCCG8SDAKIYQQXiQYhRBCCC8SjEIIIYQXCUYhhBDCiwSjEEII4UWCUQghhPAiwSiEEEJ4kWAUQgghvEgwCiGEEF4kGIUQQggvEoxCCCGEFwlGIYQQwosEoxBCCOFFglEIIYTwIsEohBBCeJFgFEIIIbxIMAohhBBeJBiFEEIILxKMQgghhBcJRiGEEMKLBKMQQgjhRYJRCCGE8CLBKIQQQniRYBRCCCG8SDAKIYQQXiQYhRBCCC8SjEIIIYQXCUYhhBDCiwSjEEII4UWCUQghhPAiwSiEEEJ4kWAUQgghvPx/+NH7s/WXfmIAAAAASUVORK5CYII=)"
      ],
      "metadata": {
        "id": "TTfthPkbvzet"
      }
    },
    {
      "cell_type": "code",
      "source": [
        "def z_range(r, n):\n",
        "  return 0.5 * np.log((1 + r) / (1 - r)) - 1 / np.sqrt(n - 3),  0.5 * np.log((1 + r) / (1 - r)) + 1 / np.sqrt(n - 3)\n",
        "\n",
        "def calc_z_to_r(z):\n",
        "  return (np.exp(z*2) - 1) / (np.exp(z*2) + 1)"
      ],
      "metadata": {
        "id": "J5SN5G_4vrlU"
      },
      "execution_count": null,
      "outputs": []
    },
    {
      "cell_type": "code",
      "source": [
        "z1, z2 = z_range(r, n)\n",
        "r1, r2 = calc_z_to_r(z1), calc_z_to_r(z2)"
      ],
      "metadata": {
        "id": "B6i4qZu9wMHD"
      },
      "execution_count": null,
      "outputs": []
    },
    {
      "cell_type": "code",
      "source": [
        "print(f\"Доверительный интервал в z: {z1, z2}\")"
      ],
      "metadata": {
        "id": "JRcpNSisw0EO",
        "colab": {
          "base_uri": "https://localhost:8080/"
        },
        "outputId": "783cd7e6-8dd6-4ec1-f8be-93fe24daa2bf"
      },
      "execution_count": null,
      "outputs": [
        {
          "output_type": "stream",
          "name": "stdout",
          "text": [
            "Доверительный интервал в z: (0.4805235483329009, 0.6454807681013655)\n"
          ]
        }
      ]
    },
    {
      "cell_type": "markdown",
      "source": [
        "В целях преобразования из z в r, мы используем следующее обратное уравнение z-преобразования:"
      ],
      "metadata": {
        "id": "eTM3s7P1yp6O"
      }
    },
    {
      "cell_type": "markdown",
      "source": [
        "![image.png](data:image/png;base64,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)"
      ],
      "metadata": {
        "id": "DZwXtXiAyydj"
      }
    },
    {
      "cell_type": "code",
      "source": [
        "print(f\"Доверительный интервал в r: {r1, r2}\")"
      ],
      "metadata": {
        "id": "5JVVXC1FyXOj",
        "colab": {
          "base_uri": "https://localhost:8080/"
        },
        "outputId": "38f14587-fe47-4221-d297-abb29312d1a5"
      },
      "execution_count": null,
      "outputs": [
        {
          "output_type": "stream",
          "name": "stdout",
          "text": [
            "Доверительный интервал в r: (0.44666280466845676, 0.5686197893780871)\n"
          ]
        }
      ]
    },
    {
      "cell_type": "markdown",
      "source": [
        "В результате получаем 95%-й доверительный интервал для ρ, расположенный между 0.447 и 0.569. Мы можем быть уверены в том, что в более широкой популяции студентов существует положительная корреляция средней силы между отметкой по математике и ЦТ по этому предмету."
      ],
      "metadata": {
        "id": "lQVb-lfwzrlU"
      }
    },
    {
      "cell_type": "markdown",
      "source": [
        "# Регрессия"
      ],
      "metadata": {
        "id": "EO4PY6S50Hlc"
      }
    },
    {
      "cell_type": "markdown",
      "source": [
        "![image.png](data:image/png;base64,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)"
      ],
      "metadata": {
        "id": "s87gbH0NRLMe"
      }
    },
    {
      "cell_type": "markdown",
      "source": [
        "Найдём коэффицент b с помощью метода наименьших квадратов:"
      ],
      "metadata": {
        "id": "eh4Gn5FlI4HY"
      }
    },
    {
      "cell_type": "markdown",
      "source": [
        "![image.png](data:image/png;base64,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)"
      ],
      "metadata": {
        "id": "1xideMD8H8Fi"
      }
    },
    {
      "cell_type": "markdown",
      "source": [
        "мы можем его упростить, приведя к следующему виду:\n",
        "\n"
      ],
      "metadata": {
        "id": "kgYeN5oJN_uh"
      }
    },
    {
      "cell_type": "markdown",
      "source": [
        "![image.png](data:image/png;base64,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)"
      ],
      "metadata": {
        "id": "BIu1906RIFfO"
      }
    },
    {
      "cell_type": "markdown",
      "source": [
        "Смещение - это член, позволяющий прямой с заданным наклоном проходить через среднее значение X и Y:\n",
        "\n"
      ],
      "metadata": {
        "id": "A_ocFBz-P6Z8"
      }
    },
    {
      "cell_type": "markdown",
      "source": [
        "![image.png](data:image/png;base64,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)"
      ],
      "metadata": {
        "id": "YrSPXMyzPG3w"
      }
    },
    {
      "cell_type": "code",
      "source": [
        "def slope(x, y):\n",
        "  return x.cov(y) / x.var()\n",
        "\n",
        "def bias(x, y):\n",
        "  return y.mean() - (x.mean() * slope(x, y))"
      ],
      "metadata": {
        "id": "KyhLy6wlPHYl"
      },
      "execution_count": null,
      "outputs": []
    },
    {
      "cell_type": "code",
      "source": [
        "a = bias(target_df['school_math'], target_df['CT_math'])\n",
        "b = slope(target_df['school_math'], target_df['CT_math'])\n",
        "print(a, b)"
      ],
      "metadata": {
        "id": "_Yf-zQMlRxlv",
        "colab": {
          "base_uri": "https://localhost:8080/"
        },
        "outputId": "25bf4079-346b-4cdc-8b28-6ced04d39fc8"
      },
      "execution_count": null,
      "outputs": [
        {
          "output_type": "stream",
          "name": "stdout",
          "text": [
            "26.019739827560137 5.215171683557707\n"
          ]
        }
      ]
    },
    {
      "cell_type": "code",
      "source": [
        "def regression_line(a, b):\n",
        "  return lambda x: a + (b * x)"
      ],
      "metadata": {
        "id": "Juv2Che4R-oF"
      },
      "execution_count": null,
      "outputs": []
    },
    {
      "cell_type": "code",
      "source": [
        "def draw_regression_line(x, y, title, labels):\n",
        "  scatter_plot(x, y, title, labels)\n",
        "  a, b = bias(x, y), slope(x, y)\n",
        "  s = pd.Series(range(4,11))\n",
        "  #plt.plot(s, s.map(regression_line(a, b)))\n"
      ],
      "metadata": {
        "id": "SsBJIyhXUdwr"
      },
      "execution_count": null,
      "outputs": []
    },
    {
      "cell_type": "code",
      "source": [
        "draw_regression_line(target_df['school_math'], target_df['CT_math'], 'Математика', ('Аттестат', 'ЦТ'))"
      ],
      "metadata": {
        "colab": {
          "base_uri": "https://localhost:8080/",
          "height": 437
        },
        "id": "Izxa-lfTVVwJ",
        "outputId": "1e5ad791-6667-4fe8-d078-b247cd016961"
      },
      "execution_count": null,
      "outputs": [
        {
          "output_type": "display_data",
          "data": {
            "text/plain": [
              "<Figure size 576x432 with 1 Axes>"
            ],
            "image/png": "[encoded data removed]"
          },
          "metadata": {}
        }
      ]
    },
    {
      "cell_type": "markdown",
      "source": [
        "**Качество регрессии**"
      ],
      "metadata": {
        "id": "wVS_MtDUgcLN"
      }
    },
    {
      "cell_type": "code",
      "source": [
        "x = target_df['school_math']\n",
        "target_df['CT_math_pred'] = x.map(regression_line(a, b))\n",
        "target_df['CT_math_pred'] = target_df['CT_math_pred'].apply(lambda x: int(x + 0.5))\n",
        "target_df['CT_math_pred']"
      ],
      "metadata": {
        "id": "KrJQ462mjgr6",
        "colab": {
          "base_uri": "https://localhost:8080/"
        },
        "outputId": "286cfd86-c3dc-421d-89d8-83900aabfabc"
      },
      "execution_count": null,
      "outputs": [
        {
          "output_type": "stream",
          "name": "stderr",
          "text": [
            "/usr/local/lib/python3.7/dist-packages/ipykernel_launcher.py:2: SettingWithCopyWarning: \n",
            "A value is trying to be set on a copy of a slice from a DataFrame.\n",
            "Try using .loc[row_indexer,col_indexer] = value instead\n",
            "\n",
            "See the caveats in the documentation: https://pandas.pydata.org/pandas-docs/stable/user_guide/indexing.html#returning-a-view-versus-a-copy\n",
            "  \n",
            "/usr/local/lib/python3.7/dist-packages/ipykernel_launcher.py:3: SettingWithCopyWarning: \n",
            "A value is trying to be set on a copy of a slice from a DataFrame.\n",
            "Try using .loc[row_indexer,col_indexer] = value instead\n",
            "\n",
            "See the caveats in the documentation: https://pandas.pydata.org/pandas-docs/stable/user_guide/indexing.html#returning-a-view-versus-a-copy\n",
            "  This is separate from the ipykernel package so we can avoid doing imports until\n"
          ]
        },
        {
          "output_type": "execute_result",
          "data": {
            "text/plain": [
              "0      73\n",
              "1      78\n",
              "2      78\n",
              "3      73\n",
              "4      73\n",
              "       ..\n",
              "165    68\n",
              "166    68\n",
              "167    73\n",
              "168    78\n",
              "169    78\n",
              "Name: CT_math_pred, Length: 150, dtype: int64"
            ]
          },
          "metadata": {},
          "execution_count": 38
        }
      ]
    },
    {
      "cell_type": "code",
      "source": [
        "def regression_error(x, y, y_pred, title, labels):\n",
        "  y = y - y_pred\n",
        "  scatter_plot(x, y, title, labels)\n",
        "\n",
        "  s = pd.Series(range(4,11))\n",
        "  plt.plot(s, s.apply(lambda x: 0))\n",
        "  plt.show()\n",
        "\n",
        "  print(y.describe())"
      ],
      "metadata": {
        "id": "Y8aaNy24nOV5"
      },
      "execution_count": null,
      "outputs": []
    },
    {
      "cell_type": "code",
      "source": [
        "regression_error(target_df['school_math'], target_df['CT_math'], target_df['CT_math_pred'], 'Математика', ('Аттестат', 'ЦТ'))"
      ],
      "metadata": {
        "id": "HoSlsadAnpTb",
        "colab": {
          "base_uri": "https://localhost:8080/",
          "height": 593
        },
        "outputId": "acd090c5-ee28-45ba-e8c3-cc8ceec4682a"
      },
      "execution_count": null,
      "outputs": [
        {
          "output_type": "display_data",
          "data": {
            "text/plain": [
              "<Figure size 576x432 with 1 Axes>"
            ],
            "image/png": "[encoded data removed]"
          },
          "metadata": {}
        },
        {
          "output_type": "stream",
          "name": "stdout",
          "text": [
            "count    150.000000\n",
            "mean      -0.040000\n",
            "std        9.584579\n",
            "min      -31.000000\n",
            "25%       -8.000000\n",
            "50%        0.500000\n",
            "75%        7.000000\n",
            "max       22.000000\n",
            "dtype: float64\n"
          ]
        }
      ]
    },
    {
      "cell_type": "code",
      "source": [],
      "metadata": {
        "id": "vCApgn0vrVlF"
      },
      "execution_count": null,
      "outputs": []
    }
  ],
  "metadata": {
    "colab": {
      "collapsed_sections": [],
      "provenance": [],
      "authorship_tag": "ABX9TyNiE3mYsHe/M+0V9vefyAlU",
      "include_colab_link": true
    },
    "kernelspec": {
      "display_name": "Python 3",
      "name": "python3"
    },
    "language_info": {
      "name": "python"
    }
  },
  "nbformat": 4,
  "nbformat_minor": 0
}